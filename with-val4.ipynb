{
 "cells": [
  {
   "cell_type": "code",
   "execution_count": 1,
   "metadata": {
    "_cell_guid": "b1076dfc-b9ad-4769-8c92-a6c4dae69d19",
    "_uuid": "8f2839f25d086af736a60e9eeb907d3b93b6e0e5"
   },
   "outputs": [
    {
     "name": "stdout",
     "output_type": "stream",
     "text": [
      "['src', 'working', 'input', 'lib']\n",
      "['dataset', 'rsna-bone-age']\n"
     ]
    },
    {
     "name": "stderr",
     "output_type": "stream",
     "text": [
      "Using TensorFlow backend.\n"
     ]
    }
   ],
   "source": [
    "import numpy as np # linear algebra\n",
    "import pandas as pd # data processing, CSV file I/O (e.g. pd.read_csv)\n",
    "\n",
    "import os\n",
    "print(os.listdir(\"..\"))\n",
    "print(os.listdir(\"../input\"))\n",
    "\n",
    "import pandas as pd\n",
    "import numpy as np\n",
    "from keras.layers import Dense\n",
    "from keras.layers import Flatten\n",
    "from keras.layers.convolutional import Conv2D\n",
    "from keras.layers.convolutional import MaxPooling2D\n",
    "from keras.preprocessing.image import ImageDataGenerator, array_to_img, img_to_array, load_img\n",
    "import os\n",
    "from glob import glob\n",
    "from PIL import Image\n",
    "import matplotlib.pyplot as plt\n",
    "from keras import optimizers\n",
    "from keras.models import Sequential\n",
    "from keras.layers import Dense,Activation,AveragePooling2D,MaxPooling2D,Dropout,BatchNormalization\n"
   ]
  },
  {
   "cell_type": "code",
   "execution_count": 2,
   "metadata": {
    "_cell_guid": "79c7e3d0-c299-4dcb-8224-4455121ee9b0",
    "_uuid": "d629ff2d2480ee46fbb7e2d37f6b5fab8052498a"
   },
   "outputs": [
    {
     "data": {
      "text/html": [
       "<div>\n",
       "<style scoped>\n",
       "    .dataframe tbody tr th:only-of-type {\n",
       "        vertical-align: middle;\n",
       "    }\n",
       "\n",
       "    .dataframe tbody tr th {\n",
       "        vertical-align: top;\n",
       "    }\n",
       "\n",
       "    .dataframe thead th {\n",
       "        text-align: right;\n",
       "    }\n",
       "</style>\n",
       "<table border=\"1\" class=\"dataframe\">\n",
       "  <thead>\n",
       "    <tr style=\"text-align: right;\">\n",
       "      <th></th>\n",
       "      <th>Unnamed: 0</th>\n",
       "      <th>boneage</th>\n",
       "      <th>male</th>\n",
       "      <th>id</th>\n",
       "    </tr>\n",
       "  </thead>\n",
       "  <tbody>\n",
       "    <tr>\n",
       "      <th>0</th>\n",
       "      <td>1377</td>\n",
       "      <td>180</td>\n",
       "      <td>FALSE</td>\n",
       "      <td>1377.png</td>\n",
       "    </tr>\n",
       "    <tr>\n",
       "      <th>1</th>\n",
       "      <td>1378</td>\n",
       "      <td>12</td>\n",
       "      <td>FALSE</td>\n",
       "      <td>1378.png</td>\n",
       "    </tr>\n",
       "    <tr>\n",
       "      <th>2</th>\n",
       "      <td>1379</td>\n",
       "      <td>94</td>\n",
       "      <td>FALSE</td>\n",
       "      <td>1379.png</td>\n",
       "    </tr>\n",
       "    <tr>\n",
       "      <th>3</th>\n",
       "      <td>1380</td>\n",
       "      <td>120</td>\n",
       "      <td>TRUE</td>\n",
       "      <td>1380.png</td>\n",
       "    </tr>\n",
       "    <tr>\n",
       "      <th>4</th>\n",
       "      <td>1381</td>\n",
       "      <td>82</td>\n",
       "      <td>FALSE</td>\n",
       "      <td>1381.png</td>\n",
       "    </tr>\n",
       "  </tbody>\n",
       "</table>\n",
       "</div>"
      ],
      "text/plain": [
       "  Unnamed: 0 boneage   male        id\n",
       "0       1377     180  FALSE  1377.png\n",
       "1       1378      12  FALSE  1378.png\n",
       "2       1379      94  FALSE  1379.png\n",
       "3       1380     120   TRUE  1380.png\n",
       "4       1381      82  FALSE  1381.png"
      ]
     },
     "execution_count": 2,
     "metadata": {},
     "output_type": "execute_result"
    }
   ],
   "source": [
    "\n",
    "# 2. upload file\n",
    "\n",
    "# 1) <test>\n",
    "import pandas as pd\n",
    "datadf=pd.read_csv(\"../input/dataset/boneage-training-dataset3.csv\",dtype=str)\n",
    "# test['Sex'] = test['Sex'].map( {'TRUE':0, 'FALSE':1} )\n",
    "datadf.head()\n",
    "#img = load_img(\"../input/rsna-bone-age/boneage-training-dataset/boneage-training-dataset/1377.png\")\n",
    "#plt.imshow(img)"
   ]
  },
  {
   "cell_type": "code",
   "execution_count": 3,
   "metadata": {},
   "outputs": [
    {
     "name": "stdout",
     "output_type": "stream",
     "text": [
      "Found 12611 images belonging to 2 classes.\n"
     ]
    }
   ],
   "source": [
    "\n",
    "# 3. image data generator\n",
    "# 1) <img_gen>\n",
    "img_gen=ImageDataGenerator(rescale=1./255) #data 전처리를 쉽게 할 수 있다.\n",
    "all_generator=img_gen.flow_from_dataframe(datadf, directory=\"../input/rsna-bone-age/boneage-training-dataset/boneage-training-dataset\", x_col='id', y_col='male', target_size=(80, 80), color_mode='grayscale', classes=None, class_mode='binary',shuffle=True, seed=None, save_to_dir=None, save_prefix='', save_format='png', subset='training', interpolation='nearest', drop_duplicates=True)\n"
   ]
  },
  {
   "cell_type": "code",
   "execution_count": 4,
   "metadata": {},
   "outputs": [],
   "source": [
    "\n",
    "# 4. train, dev, test set 만들기\n",
    "from sklearn.model_selection import train_test_split\n",
    "train_df, validate_df = train_test_split(datadf, test_size=0.10, random_state=42)\n",
    "train_df, test_df = train_test_split(train_df, test_size=0.10, random_state=42)\n",
    "train_df = train_df.reset_index(drop=True)\n",
    "validate_df = validate_df.reset_index(drop=True)\n",
    "test_df = validate_df.reset_index(drop=True)"
   ]
  },
  {
   "cell_type": "code",
   "execution_count": 5,
   "metadata": {},
   "outputs": [
    {
     "name": "stdout",
     "output_type": "stream",
     "text": [
      "Found 10214 images belonging to 2 classes.\n"
     ]
    }
   ],
   "source": [
    "\n",
    "# 5. image data generator\n",
    "# 1) train\n",
    "train_datagen = ImageDataGenerator(rescale=1./255,)\n",
    "train_generator = train_datagen.flow_from_dataframe(\n",
    "    train_df, \n",
    "    directory=\"../input/rsna-bone-age/boneage-training-dataset/boneage-training-dataset\", \n",
    "    x_col='id', \n",
    "    y_col='male', \n",
    "    target_size=(80, 80),\n",
    "    class_mode='binary',\n",
    "    shuffle=True, \n",
    "    seed=None, \n",
    "    save_to_dir=None, \n",
    "    save_prefix='', \n",
    "    save_format='png', \n",
    "    subset='training', \n",
    "    interpolation='nearest', \n",
    "    drop_duplicates=True)"
   ]
  },
  {
   "cell_type": "code",
   "execution_count": 6,
   "metadata": {},
   "outputs": [
    {
     "name": "stdout",
     "output_type": "stream",
     "text": [
      "Found 1262 images belonging to 2 classes.\n"
     ]
    }
   ],
   "source": [
    "# 2) dev set\n",
    "validation_datagen = ImageDataGenerator(rescale=1./255)\n",
    "validation_generator = validation_datagen.flow_from_dataframe(\n",
    "    validate_df, \n",
    "    directory=\"../input/rsna-bone-age/boneage-training-dataset/boneage-training-dataset\", \n",
    "    x_col='id', \n",
    "    y_col='male', \n",
    "    target_size=(80, 80),\n",
    "    class_mode='binary',\n",
    "    shuffle=True, \n",
    "    seed=None, \n",
    "    save_to_dir=None, \n",
    "    save_prefix='', \n",
    "    save_format='png', \n",
    "    subset='training', \n",
    "    interpolation='nearest', \n",
    "    drop_duplicates=True)"
   ]
  },
  {
   "cell_type": "code",
   "execution_count": 7,
   "metadata": {},
   "outputs": [
    {
     "name": "stdout",
     "output_type": "stream",
     "text": [
      "Found 1262 images belonging to 2 classes.\n"
     ]
    }
   ],
   "source": [
    "# 3) test set\n",
    "test_datagen = ImageDataGenerator(rescale=1./255)\n",
    "test_generator = validation_datagen.flow_from_dataframe(\n",
    "    test_df, \n",
    "    directory=\"../input/rsna-bone-age/boneage-training-dataset/boneage-training-dataset\", \n",
    "    x_col='id', \n",
    "    y_col='male', \n",
    "    target_size=(80, 80),\n",
    "    class_mode='binary',\n",
    "    shuffle=True, \n",
    "    seed=None, \n",
    "    save_to_dir=None, \n",
    "    save_prefix='', \n",
    "    save_format='png', \n",
    "    subset='training', \n",
    "    interpolation='nearest', \n",
    "    drop_duplicates=True)\n"
   ]
  },
  {
   "cell_type": "code",
   "execution_count": 8,
   "metadata": {},
   "outputs": [
    {
     "name": "stdout",
     "output_type": "stream",
     "text": [
      "WARNING:tensorflow:From /opt/conda/lib/python3.6/site-packages/tensorflow/python/framework/op_def_library.py:263: colocate_with (from tensorflow.python.framework.ops) is deprecated and will be removed in a future version.\n",
      "Instructions for updating:\n",
      "Colocations handled automatically by placer.\n",
      "WARNING:tensorflow:From /opt/conda/lib/python3.6/site-packages/keras/backend/tensorflow_backend.py:3445: calling dropout (from tensorflow.python.ops.nn_ops) with keep_prob is deprecated and will be removed in a future version.\n",
      "Instructions for updating:\n",
      "Please use `rate` instead of `keep_prob`. Rate should be set to `rate = 1 - keep_prob`.\n"
     ]
    }
   ],
   "source": [
    "\n",
    "# 6. create model\n",
    "model = Sequential()\n",
    "\n",
    "model.add(Conv2D(3,(8,8),padding='same', input_shape=(80,80,3)))\n",
    "model.add(BatchNormalization())\n",
    "model.add(Activation('relu'))\n",
    "model.add(AveragePooling2D(pool_size=(2,2),strides=(2,2)))\n",
    "\n",
    "model.add(Conv2D(64,(5,5),padding='same'))\n",
    "model.add(BatchNormalization())\n",
    "model.add(Activation('relu'))\n",
    "model.add(MaxPooling2D(pool_size=(2,2),strides=(2,2)))\n",
    "\n",
    "model.add(Conv2D(128,(3,3),padding='same'))\n",
    "model.add(BatchNormalization())\n",
    "model.add(Activation('relu'))\n",
    "model.add(MaxPooling2D(pool_size=(2,2),strides=(2,2)))\n",
    "\n",
    "model.add(Flatten())\n",
    "\n",
    "model.add(Dense(1024))\n",
    "model.add(BatchNormalization())\n",
    "model.add(Activation('relu'))\n",
    "model.add(Dropout(0.6))\n",
    "\n",
    "model.add(Dense(512))\n",
    "model.add(BatchNormalization())\n",
    "model.add(Activation('relu'))\n",
    "model.add(Dropout(0.6))\n",
    "\n",
    "model.add(Dense(128))\n",
    "model.add(BatchNormalization())\n",
    "model.add(Activation('relu'))\n",
    "#model.add(Dropout(0.7))\n",
    "\n",
    "#model.add(Activation('softmax'))\n",
    "\n",
    "model.add(Dense(1,activation='sigmoid'))\n"
   ]
  },
  {
   "cell_type": "code",
   "execution_count": 9,
   "metadata": {},
   "outputs": [
    {
     "name": "stdout",
     "output_type": "stream",
     "text": [
      "_________________________________________________________________\n",
      "Layer (type)                 Output Shape              Param #   \n",
      "=================================================================\n",
      "conv2d_1 (Conv2D)            (None, 80, 80, 3)         579       \n",
      "_________________________________________________________________\n",
      "batch_normalization_1 (Batch (None, 80, 80, 3)         12        \n",
      "_________________________________________________________________\n",
      "activation_1 (Activation)    (None, 80, 80, 3)         0         \n",
      "_________________________________________________________________\n",
      "average_pooling2d_1 (Average (None, 40, 40, 3)         0         \n",
      "_________________________________________________________________\n",
      "conv2d_2 (Conv2D)            (None, 40, 40, 64)        4864      \n",
      "_________________________________________________________________\n",
      "batch_normalization_2 (Batch (None, 40, 40, 64)        256       \n",
      "_________________________________________________________________\n",
      "activation_2 (Activation)    (None, 40, 40, 64)        0         \n",
      "_________________________________________________________________\n",
      "max_pooling2d_1 (MaxPooling2 (None, 20, 20, 64)        0         \n",
      "_________________________________________________________________\n",
      "conv2d_3 (Conv2D)            (None, 20, 20, 128)       73856     \n",
      "_________________________________________________________________\n",
      "batch_normalization_3 (Batch (None, 20, 20, 128)       512       \n",
      "_________________________________________________________________\n",
      "activation_3 (Activation)    (None, 20, 20, 128)       0         \n",
      "_________________________________________________________________\n",
      "max_pooling2d_2 (MaxPooling2 (None, 10, 10, 128)       0         \n",
      "_________________________________________________________________\n",
      "flatten_1 (Flatten)          (None, 12800)             0         \n",
      "_________________________________________________________________\n",
      "dense_1 (Dense)              (None, 1024)              13108224  \n",
      "_________________________________________________________________\n",
      "batch_normalization_4 (Batch (None, 1024)              4096      \n",
      "_________________________________________________________________\n",
      "activation_4 (Activation)    (None, 1024)              0         \n",
      "_________________________________________________________________\n",
      "dropout_1 (Dropout)          (None, 1024)              0         \n",
      "_________________________________________________________________\n",
      "dense_2 (Dense)              (None, 512)               524800    \n",
      "_________________________________________________________________\n",
      "batch_normalization_5 (Batch (None, 512)               2048      \n",
      "_________________________________________________________________\n",
      "activation_5 (Activation)    (None, 512)               0         \n",
      "_________________________________________________________________\n",
      "dropout_2 (Dropout)          (None, 512)               0         \n",
      "_________________________________________________________________\n",
      "dense_3 (Dense)              (None, 128)               65664     \n",
      "_________________________________________________________________\n",
      "batch_normalization_6 (Batch (None, 128)               512       \n",
      "_________________________________________________________________\n",
      "activation_6 (Activation)    (None, 128)               0         \n",
      "_________________________________________________________________\n",
      "dense_4 (Dense)              (None, 1)                 129       \n",
      "=================================================================\n",
      "Total params: 13,785,552\n",
      "Trainable params: 13,781,834\n",
      "Non-trainable params: 3,718\n",
      "_________________________________________________________________\n"
     ]
    }
   ],
   "source": [
    "# 7. compile\n",
    "#adam = optimizers.Adam(lr=0.02,beta_1=0.9,beta_2=0.999, epsilon = None, decay=0.0)\n",
    "model.compile(optimizer='adam',loss='binary_crossentropy',metrics=['accuracy'])#여기까지가 학습 프로세스 설정\n",
    "model.summary()\n"
   ]
  },
  {
   "cell_type": "code",
   "execution_count": 10,
   "metadata": {},
   "outputs": [],
   "source": [
    "# 8. train - 20 epochs\n",
    "total_train_n=train_generator.n+validation_generator.n\n",
    "total_train_size=train_generator.batch_size+validation_generator.batch_size\n",
    "#history_0 = model.fit_generator(\n",
    " #   train_generator,  \n",
    " #  epochs=20, \n",
    " # verbose=1,\n",
    " # validation_data=validation_generator,\n",
    "#validation_steps=validation_generator.n//validation_generator.batch_size,\n",
    "#    steps_per_epoch=total_train_n//total_train_size)\n",
    "\n",
    "model.save('train14.h5')"
   ]
  },
  {
   "cell_type": "code",
   "execution_count": 11,
   "metadata": {},
   "outputs": [],
   "source": [
    "# show graph\n",
    "\n",
    "\n",
    "#plt.plot(history_0.history['acc'], 'b-', label=\"train set accuracy\")\n",
    "#plt.plot(history_0.history['val_acc'], 'r:', label=\"dev set accuracy\")"
   ]
  },
  {
   "cell_type": "code",
   "execution_count": 12,
   "metadata": {},
   "outputs": [],
   "source": [
    "# show test results(testset)\n",
    "#scores = model.evaluate_generator(\n",
    "#    test_generator,\n",
    "#    steps = 20)\n",
    "#print(\"%s: %.2f%%\" %(model.metrics_names[1], scores[1]*100))"
   ]
  },
  {
   "cell_type": "code",
   "execution_count": 13,
   "metadata": {},
   "outputs": [
    {
     "data": {
      "text/plain": [
       "<matplotlib.image.AxesImage at 0x7f44f6676080>"
      ]
     },
     "execution_count": 13,
     "metadata": {},
     "output_type": "execute_result"
    },
    {
     "data": {
      "image/png": "[encoded data removed]",
      "text/plain": [
       "<Figure size 432x288 with 1 Axes>"
      ]
     },
     "metadata": {},
     "output_type": "display_data"
    }
   ],
   "source": [
    "img = load_img(\"../input/rsna-bone-age/boneage-training-dataset/boneage-training-dataset/1377.png\")\n",
    "plt.imshow(img)"
   ]
  },
  {
   "cell_type": "code",
   "execution_count": 14,
   "metadata": {},
   "outputs": [],
   "source": [
    "# 9. data augmentation\n",
    "aug_datagen = ImageDataGenerator(\n",
    "        rescale=1./255,\n",
    "        featurewise_center=False,  # set input mean to 0 over the dataset\n",
    "        samplewise_center=False,  # set each sample mean to 0\n",
    "        featurewise_std_normalization=False,  # divide inputs by std of the dataset\n",
    "        samplewise_std_normalization=False,  # divide each input by its std\n",
    "        zca_whitening=False,  # apply ZCA whitening\n",
    "        rotation_range=10,  # randomly rotate images in the range (degrees, 0 to 180)\n",
    "        zoom_range = 0.1, # Randomly zoom image \n",
    "        width_shift_range=0.1,  # randomly shift images horizontally (fraction of total width)\n",
    "        height_shift_range=0.1,  # randomly shift images vertically (fraction of total height)\n",
    "        horizontal_flip=False,  # randomly flip images\n",
    "        vertical_flip=False,\n",
    "        fill_mode='nearest')  # randomly flip images\n"
   ]
  },
  {
   "cell_type": "code",
   "execution_count": 15,
   "metadata": {},
   "outputs": [
    {
     "name": "stdout",
     "output_type": "stream",
     "text": [
      "Found 10214 images belonging to 2 classes.\n"
     ]
    }
   ],
   "source": [
    "aug_generator = aug_datagen.flow_from_dataframe(\n",
    "    train_df, \n",
    "    directory=\"../input/rsna-bone-age/boneage-training-dataset/boneage-training-dataset\", \n",
    "    x_col='id', \n",
    "    y_col='male', \n",
    "    target_size=(80, 80),\n",
    "    class_mode='binary',\n",
    "    shuffle=True, \n",
    "    seed=None, \n",
    "    save_to_dir=None, \n",
    "    save_prefix='', \n",
    "    save_format='png', \n",
    "    subset='training', \n",
    "    interpolation='nearest', \n",
    "    drop_duplicates=True)"
   ]
  },
  {
   "cell_type": "code",
   "execution_count": 16,
   "metadata": {},
   "outputs": [
    {
     "name": "stdout",
     "output_type": "stream",
     "text": [
      "WARNING:tensorflow:From /opt/conda/lib/python3.6/site-packages/tensorflow/python/ops/math_ops.py:3066: to_int32 (from tensorflow.python.ops.math_ops) is deprecated and will be removed in a future version.\n",
      "Instructions for updating:\n",
      "Use tf.cast instead.\n",
      "Epoch 1/50\n",
      "179/179 [==============================] - 239s 1s/step - loss: 0.7494 - acc: 0.5007 - val_loss: 0.6999 - val_acc: 0.5385\n",
      "Epoch 2/50\n",
      "179/179 [==============================] - 216s 1s/step - loss: 0.7148 - acc: 0.5213 - val_loss: 0.6935 - val_acc: 0.5301\n",
      "Epoch 3/50\n",
      "179/179 [==============================] - 191s 1s/step - loss: 0.7084 - acc: 0.5110 - val_loss: 0.6917 - val_acc: 0.5699\n",
      "Epoch 4/50\n",
      "179/179 [==============================] - 190s 1s/step - loss: 0.7007 - acc: 0.5230 - val_loss: 0.6777 - val_acc: 0.5626\n",
      "Epoch 5/50\n",
      "179/179 [==============================] - 190s 1s/step - loss: 0.6941 - acc: 0.5379 - val_loss: 0.6890 - val_acc: 0.5398\n",
      "Epoch 6/50\n",
      "179/179 [==============================] - 190s 1s/step - loss: 0.6940 - acc: 0.5278 - val_loss: 0.6814 - val_acc: 0.5854\n",
      "Epoch 7/50\n",
      "179/179 [==============================] - 189s 1s/step - loss: 0.6936 - acc: 0.5288 - val_loss: 0.6835 - val_acc: 0.5520\n",
      "Epoch 8/50\n",
      "179/179 [==============================] - 187s 1s/step - loss: 0.6939 - acc: 0.5293 - val_loss: 0.6782 - val_acc: 0.5837\n",
      "Epoch 9/50\n",
      "179/179 [==============================] - 190s 1s/step - loss: 0.6856 - acc: 0.5567 - val_loss: 0.7254 - val_acc: 0.4715\n",
      "Epoch 10/50\n",
      "179/179 [==============================] - 188s 1s/step - loss: 0.6921 - acc: 0.5405 - val_loss: 0.6718 - val_acc: 0.5772\n",
      "Epoch 11/50\n",
      "179/179 [==============================] - 189s 1s/step - loss: 0.6851 - acc: 0.5610 - val_loss: 0.6757 - val_acc: 0.5854\n",
      "Epoch 12/50\n",
      "179/179 [==============================] - 190s 1s/step - loss: 0.6783 - acc: 0.5763 - val_loss: 0.6614 - val_acc: 0.5821\n",
      "Epoch 13/50\n",
      "179/179 [==============================] - 187s 1s/step - loss: 0.6780 - acc: 0.5732 - val_loss: 0.6666 - val_acc: 0.5650\n",
      "Epoch 14/50\n",
      "179/179 [==============================] - 190s 1s/step - loss: 0.6725 - acc: 0.5796 - val_loss: 0.6871 - val_acc: 0.5293\n",
      "Epoch 15/50\n",
      "179/179 [==============================] - 190s 1s/step - loss: 0.6643 - acc: 0.5944 - val_loss: 0.6395 - val_acc: 0.6374\n",
      "Epoch 16/50\n",
      "179/179 [==============================] - 188s 1s/step - loss: 0.6648 - acc: 0.5941 - val_loss: 0.6335 - val_acc: 0.6260\n",
      "Epoch 17/50\n",
      "179/179 [==============================] - 189s 1s/step - loss: 0.6548 - acc: 0.6095 - val_loss: 0.6449 - val_acc: 0.6309\n",
      "Epoch 18/50\n",
      "179/179 [==============================] - 188s 1s/step - loss: 0.6528 - acc: 0.6120 - val_loss: 0.6306 - val_acc: 0.6293\n",
      "Epoch 19/50\n",
      "179/179 [==============================] - 189s 1s/step - loss: 0.6483 - acc: 0.6217 - val_loss: 0.6075 - val_acc: 0.6724\n",
      "Epoch 20/50\n",
      "179/179 [==============================] - 188s 1s/step - loss: 0.6381 - acc: 0.6299 - val_loss: 0.6080 - val_acc: 0.6504\n",
      "Epoch 21/50\n",
      "179/179 [==============================] - 188s 1s/step - loss: 0.6352 - acc: 0.6351 - val_loss: 0.6099 - val_acc: 0.6463\n",
      "Epoch 22/50\n",
      "179/179 [==============================] - 188s 1s/step - loss: 0.6341 - acc: 0.6360 - val_loss: 0.6311 - val_acc: 0.6276\n",
      "Epoch 23/50\n",
      "179/179 [==============================] - 187s 1s/step - loss: 0.6258 - acc: 0.6428 - val_loss: 0.7196 - val_acc: 0.5959\n",
      "Epoch 24/50\n",
      "179/179 [==============================] - 187s 1s/step - loss: 0.6258 - acc: 0.6472 - val_loss: 0.6253 - val_acc: 0.6447\n",
      "Epoch 25/50\n",
      "179/179 [==============================] - 187s 1s/step - loss: 0.6190 - acc: 0.6482 - val_loss: 0.5968 - val_acc: 0.6691\n",
      "Epoch 26/50\n",
      "179/179 [==============================] - 187s 1s/step - loss: 0.6189 - acc: 0.6439 - val_loss: 0.5850 - val_acc: 0.6797\n",
      "Epoch 27/50\n",
      "179/179 [==============================] - 187s 1s/step - loss: 0.6123 - acc: 0.6556 - val_loss: 0.6144 - val_acc: 0.6472\n",
      "Epoch 28/50\n",
      "179/179 [==============================] - 186s 1s/step - loss: 0.6130 - acc: 0.6559 - val_loss: 0.5995 - val_acc: 0.6650\n",
      "Epoch 29/50\n",
      "179/179 [==============================] - 186s 1s/step - loss: 0.6086 - acc: 0.6652 - val_loss: 0.7361 - val_acc: 0.5626\n",
      "Epoch 30/50\n",
      "179/179 [==============================] - 188s 1s/step - loss: 0.6053 - acc: 0.6641 - val_loss: 0.5791 - val_acc: 0.6821\n",
      "Epoch 31/50\n",
      "179/179 [==============================] - 186s 1s/step - loss: 0.6033 - acc: 0.6722 - val_loss: 0.5478 - val_acc: 0.7000\n",
      "Epoch 32/50\n",
      "179/179 [==============================] - 188s 1s/step - loss: 0.6062 - acc: 0.6645 - val_loss: 0.6492 - val_acc: 0.6154\n",
      "Epoch 33/50\n",
      "179/179 [==============================] - 186s 1s/step - loss: 0.5981 - acc: 0.6800 - val_loss: 0.6511 - val_acc: 0.6358\n",
      "Epoch 34/50\n",
      "179/179 [==============================] - 186s 1s/step - loss: 0.5901 - acc: 0.6809 - val_loss: 0.6305 - val_acc: 0.6390\n",
      "Epoch 35/50\n",
      "179/179 [==============================] - 187s 1s/step - loss: 0.5950 - acc: 0.6748 - val_loss: 0.6882 - val_acc: 0.5829\n",
      "Epoch 36/50\n",
      "179/179 [==============================] - 187s 1s/step - loss: 0.5841 - acc: 0.6900 - val_loss: 0.5594 - val_acc: 0.6951\n",
      "Epoch 37/50\n",
      "179/179 [==============================] - 187s 1s/step - loss: 0.5889 - acc: 0.6788 - val_loss: 0.5725 - val_acc: 0.6878\n",
      "Epoch 38/50\n",
      "179/179 [==============================] - 186s 1s/step - loss: 0.5899 - acc: 0.6816 - val_loss: 0.5456 - val_acc: 0.7033\n",
      "Epoch 39/50\n",
      "179/179 [==============================] - 194s 1s/step - loss: 0.5779 - acc: 0.6915 - val_loss: 0.6547 - val_acc: 0.6309\n",
      "Epoch 40/50\n",
      "179/179 [==============================] - 188s 1s/step - loss: 0.5796 - acc: 0.6945 - val_loss: 0.5447 - val_acc: 0.7024\n",
      "Epoch 41/50\n",
      "179/179 [==============================] - 192s 1s/step - loss: 0.5916 - acc: 0.6782 - val_loss: 0.5506 - val_acc: 0.7067\n",
      "Epoch 42/50\n",
      "179/179 [==============================] - 190s 1s/step - loss: 0.5831 - acc: 0.6898 - val_loss: 0.6080 - val_acc: 0.6642\n",
      "Epoch 43/50\n",
      "179/179 [==============================] - 190s 1s/step - loss: 0.5696 - acc: 0.6933 - val_loss: 0.5551 - val_acc: 0.6967\n",
      "Epoch 44/50\n",
      "179/179 [==============================] - 192s 1s/step - loss: 0.5708 - acc: 0.6971 - val_loss: 0.5388 - val_acc: 0.7073\n",
      "Epoch 45/50\n",
      "179/179 [==============================] - 190s 1s/step - loss: 0.5725 - acc: 0.6922 - val_loss: 0.5372 - val_acc: 0.7122\n",
      "Epoch 46/50\n",
      "168/179 [===========================>..] - ETA: 10s - loss: 0.5627 - acc: 0.7080"
     ]
    }
   ],
   "source": [
    "# 10. train with data augmentation\n",
    "history_data_augmentation = model.fit_generator(\n",
    "                              aug_generator,\n",
    "                              epochs=50, \n",
    "                              verbose=1,\n",
    "                              validation_data=validation_generator,\n",
    "                              validation_steps=validation_generator.n//validation_generator.batch_size,\n",
    "                              steps_per_epoch=total_train_n//total_train_size)\n",
    "\n",
    "#model.save('with_aug.h5')"
   ]
  },
  {
   "cell_type": "code",
   "execution_count": 17,
   "metadata": {},
   "outputs": [],
   "source": [
    "# show graph\n",
    "\n",
    "\n",
    "#plt.plot(history_data_augmentation.history['acc'], 'b-', label=\"train set accuracy\")\n",
    "#plt.plot(history_data_augmentation.history['val_acc'], 'r:', label=\"dev set accuracy\")"
   ]
  },
  {
   "cell_type": "code",
   "execution_count": 18,
   "metadata": {},
   "outputs": [
    {
     "name": "stdout",
     "output_type": "stream",
     "text": [
      "Epoch 1/50\n",
      "179/179 [==============================] - 195s 1s/step - loss: 0.5291 - acc: 0.7360 - val_loss: 0.6483 - val_acc: 0.6455\n",
      "Epoch 2/50\n",
      "179/179 [==============================] - 184s 1s/step - loss: 0.5199 - acc: 0.7364 - val_loss: 0.5269 - val_acc: 0.7138\n",
      "Epoch 3/50\n",
      "179/179 [==============================] - 185s 1s/step - loss: 0.4995 - acc: 0.7502 - val_loss: 0.5191 - val_acc: 0.7276\n",
      "Epoch 4/50\n",
      "179/179 [==============================] - 184s 1s/step - loss: 0.4932 - acc: 0.7563 - val_loss: 0.5282 - val_acc: 0.7447\n",
      "Epoch 5/50\n",
      "179/179 [==============================] - 186s 1s/step - loss: 0.4778 - acc: 0.7601 - val_loss: 0.4810 - val_acc: 0.7528\n",
      "Epoch 6/50\n",
      "179/179 [==============================] - 184s 1s/step - loss: 0.4657 - acc: 0.7715 - val_loss: 0.5150 - val_acc: 0.7325\n",
      "Epoch 7/50\n",
      "179/179 [==============================] - 184s 1s/step - loss: 0.4625 - acc: 0.7792 - val_loss: 0.5135 - val_acc: 0.7325\n",
      "Epoch 8/50\n",
      "179/179 [==============================] - 183s 1s/step - loss: 0.4398 - acc: 0.7838 - val_loss: 0.5280 - val_acc: 0.7350\n",
      "Epoch 9/50\n",
      "179/179 [==============================] - 183s 1s/step - loss: 0.4371 - acc: 0.7944 - val_loss: 0.4996 - val_acc: 0.7740\n",
      "Epoch 10/50\n",
      "179/179 [==============================] - 184s 1s/step - loss: 0.3963 - acc: 0.8151 - val_loss: 0.5740 - val_acc: 0.7073\n",
      "Epoch 11/50\n",
      "179/179 [==============================] - 184s 1s/step - loss: 0.4072 - acc: 0.8138 - val_loss: 0.6187 - val_acc: 0.6862\n",
      "Epoch 12/50\n",
      "179/179 [==============================] - 185s 1s/step - loss: 0.3886 - acc: 0.8191 - val_loss: 0.4899 - val_acc: 0.7732\n",
      "Epoch 13/50\n",
      "179/179 [==============================] - 184s 1s/step - loss: 0.3721 - acc: 0.8257 - val_loss: 0.5625 - val_acc: 0.7333\n",
      "Epoch 14/50\n",
      "179/179 [==============================] - 186s 1s/step - loss: 0.3505 - acc: 0.8399 - val_loss: 0.5474 - val_acc: 0.7293\n",
      "Epoch 15/50\n",
      "179/179 [==============================] - 188s 1s/step - loss: 0.3191 - acc: 0.8596 - val_loss: 0.5668 - val_acc: 0.7463\n",
      "Epoch 16/50\n",
      "179/179 [==============================] - 183s 1s/step - loss: 0.3269 - acc: 0.8521 - val_loss: 0.6692 - val_acc: 0.6992\n",
      "Epoch 17/50\n",
      "179/179 [==============================] - 184s 1s/step - loss: 0.2948 - acc: 0.8659 - val_loss: 0.7000 - val_acc: 0.7016\n",
      "Epoch 18/50\n",
      "179/179 [==============================] - 186s 1s/step - loss: 0.3001 - acc: 0.8698 - val_loss: 0.5723 - val_acc: 0.7561\n",
      "Epoch 19/50\n",
      "179/179 [==============================] - 184s 1s/step - loss: 0.2616 - acc: 0.8853 - val_loss: 1.0219 - val_acc: 0.6472\n",
      "Epoch 20/50\n",
      "179/179 [==============================] - 184s 1s/step - loss: 0.2934 - acc: 0.8696 - val_loss: 0.5876 - val_acc: 0.7455\n",
      "Epoch 21/50\n",
      "179/179 [==============================] - 185s 1s/step - loss: 0.2450 - acc: 0.8923 - val_loss: 0.8173 - val_acc: 0.6959\n",
      "Epoch 22/50\n",
      "179/179 [==============================] - 183s 1s/step - loss: 0.2390 - acc: 0.8950 - val_loss: 0.7019 - val_acc: 0.7317\n",
      "Epoch 23/50\n",
      "179/179 [==============================] - 184s 1s/step - loss: 0.2270 - acc: 0.9054 - val_loss: 0.7425 - val_acc: 0.7366\n",
      "Epoch 24/50\n",
      "179/179 [==============================] - 182s 1s/step - loss: 0.2199 - acc: 0.9035 - val_loss: 0.6681 - val_acc: 0.7244\n",
      "Epoch 25/50\n",
      "179/179 [==============================] - 184s 1s/step - loss: 0.2068 - acc: 0.9129 - val_loss: 0.6373 - val_acc: 0.7537\n",
      "Epoch 26/50\n",
      "179/179 [==============================] - 183s 1s/step - loss: 0.1724 - acc: 0.9245 - val_loss: 0.6955 - val_acc: 0.7236\n",
      "Epoch 27/50\n",
      "179/179 [==============================] - 184s 1s/step - loss: 0.2081 - acc: 0.9114 - val_loss: 0.7475 - val_acc: 0.7423\n",
      "Epoch 28/50\n",
      "179/179 [==============================] - 184s 1s/step - loss: 0.1843 - acc: 0.9262 - val_loss: 0.7763 - val_acc: 0.7179\n",
      "Epoch 29/50\n",
      "179/179 [==============================] - 183s 1s/step - loss: 0.1813 - acc: 0.9240 - val_loss: 0.7009 - val_acc: 0.7439\n",
      "Epoch 30/50\n",
      "179/179 [==============================] - 184s 1s/step - loss: 0.1685 - acc: 0.9277 - val_loss: 0.9967 - val_acc: 0.6740\n",
      "Epoch 31/50\n",
      "179/179 [==============================] - 182s 1s/step - loss: 0.1718 - acc: 0.9250 - val_loss: 0.7183 - val_acc: 0.7463\n",
      "Epoch 32/50\n",
      "179/179 [==============================] - 186s 1s/step - loss: 0.1531 - acc: 0.9354 - val_loss: 1.4131 - val_acc: 0.6458\n",
      "Epoch 33/50\n",
      "179/179 [==============================] - 186s 1s/step - loss: 0.1379 - acc: 0.9438 - val_loss: 1.0064 - val_acc: 0.6984\n",
      "Epoch 34/50\n",
      "179/179 [==============================] - 184s 1s/step - loss: 0.1422 - acc: 0.9408 - val_loss: 0.9143 - val_acc: 0.7203\n",
      "Epoch 35/50\n",
      "179/179 [==============================] - 187s 1s/step - loss: 0.1282 - acc: 0.9488 - val_loss: 0.8423 - val_acc: 0.7317\n",
      "Epoch 36/50\n",
      "179/179 [==============================] - 183s 1s/step - loss: 0.1423 - acc: 0.9422 - val_loss: 0.7836 - val_acc: 0.7561\n",
      "Epoch 37/50\n",
      "179/179 [==============================] - 186s 1s/step - loss: 0.1138 - acc: 0.9555 - val_loss: 0.8339 - val_acc: 0.7390\n",
      "Epoch 38/50\n",
      "179/179 [==============================] - 185s 1s/step - loss: 0.1233 - acc: 0.9515 - val_loss: 1.0017 - val_acc: 0.7138\n",
      "Epoch 39/50\n",
      "179/179 [==============================] - 189s 1s/step - loss: 0.1107 - acc: 0.9553 - val_loss: 0.9536 - val_acc: 0.7423\n",
      "Epoch 40/50\n",
      "179/179 [==============================] - 187s 1s/step - loss: 0.1023 - acc: 0.9600 - val_loss: 0.8463 - val_acc: 0.7553\n",
      "Epoch 41/50\n",
      "179/179 [==============================] - 188s 1s/step - loss: 0.1087 - acc: 0.9576 - val_loss: 0.8561 - val_acc: 0.7659\n",
      "Epoch 42/50\n",
      "179/179 [==============================] - 188s 1s/step - loss: 0.1192 - acc: 0.9513 - val_loss: 0.9374 - val_acc: 0.7455\n",
      "Epoch 43/50\n",
      "179/179 [==============================] - 187s 1s/step - loss: 0.1106 - acc: 0.9555 - val_loss: 1.1204 - val_acc: 0.7276\n",
      "Epoch 44/50\n",
      "179/179 [==============================] - 185s 1s/step - loss: 0.0962 - acc: 0.9616 - val_loss: 0.9350 - val_acc: 0.7480\n",
      "Epoch 45/50\n",
      "179/179 [==============================] - 186s 1s/step - loss: 0.1200 - acc: 0.9522 - val_loss: 0.9276 - val_acc: 0.7293\n",
      "Epoch 46/50\n",
      "179/179 [==============================] - 187s 1s/step - loss: 0.1139 - acc: 0.9546 - val_loss: 0.8595 - val_acc: 0.7374\n",
      "Epoch 47/50\n",
      "179/179 [==============================] - 189s 1s/step - loss: 0.0913 - acc: 0.9657 - val_loss: 0.9659 - val_acc: 0.7358\n",
      "Epoch 48/50\n",
      "179/179 [==============================] - 185s 1s/step - loss: 0.0934 - acc: 0.9656 - val_loss: 0.9883 - val_acc: 0.7041\n",
      "Epoch 49/50\n",
      "179/179 [==============================] - 184s 1s/step - loss: 0.1334 - acc: 0.9500 - val_loss: 0.9113 - val_acc: 0.7089\n",
      "Epoch 50/50\n",
      "179/179 [==============================] - 186s 1s/step - loss: 0.0921 - acc: 0.9670 - val_loss: 0.9848 - val_acc: 0.7228\n"
     ]
    }
   ],
   "source": [
    "# 11. train - 50 epochs with early stopping\n",
    "total_train_n=train_generator.n+validation_generator.n\n",
    "total_train_size=train_generator.batch_size+validation_generator.batch_size\n",
    "history_1 = model.fit_generator(\n",
    "    train_generator,  \n",
    "    epochs=50, \n",
    "    verbose=1,\n",
    "    validation_data=validation_generator,\n",
    "    validation_steps=validation_generator.n//validation_generator.batch_size,\n",
    "    steps_per_epoch=total_train_n//total_train_size\n",
    ")\n",
    "\n",
    "model.save('train_50_epochs_with_earlystopping.h5') # did not add early stopping by mistake"
   ]
  },
  {
   "cell_type": "code",
   "execution_count": 19,
   "metadata": {},
   "outputs": [
    {
     "data": {
      "text/plain": [
       "[<matplotlib.lines.Line2D at 0x7f44f65d5b38>]"
      ]
     },
     "execution_count": 19,
     "metadata": {},
     "output_type": "execute_result"
    },
    {
     "data": {
      "image/png": "[encoded data removed]",
      "text/plain": [
       "<Figure size 432x288 with 1 Axes>"
      ]
     },
     "metadata": {},
     "output_type": "display_data"
    }
   ],
   "source": [
    "# show graph\n",
    "\n",
    "plt.plot(history_1.history['acc'], 'b-', label=\"train set accuracy\")\n",
    "plt.plot(history_1.history['val_acc'], 'r:', label=\"dev set accuracy\")"
   ]
  },
  {
   "cell_type": "code",
   "execution_count": 20,
   "metadata": {},
   "outputs": [
    {
     "name": "stdout",
     "output_type": "stream",
     "text": [
      "acc: 70.94%\n"
     ]
    }
   ],
   "source": [
    "# show test results(testset)\n",
    "scores = model.evaluate_generator(\n",
    "    test_generator,\n",
    "    steps = 20)\n",
    "print(\"%s: %.2f%%\" %(model.metrics_names[1], scores[1]*100))"
   ]
  },
  {
   "cell_type": "code",
   "execution_count": 21,
   "metadata": {},
   "outputs": [],
   "source": []
  }
 ],
 "metadata": {
  "kernelspec": {
   "display_name": "Python 3",
   "language": "python",
   "name": "python3"
  },
  "language_info": {
   "codemirror_mode": {
    "name": "ipython",
    "version": 3
   },
   "file_extension": ".py",
   "mimetype": "text/x-python",
   "name": "python",
   "nbconvert_exporter": "python",
   "pygments_lexer": "ipython3",
   "version": "3.6.4"
  }
 },
 "nbformat": 4,
 "nbformat_minor": 1
}
