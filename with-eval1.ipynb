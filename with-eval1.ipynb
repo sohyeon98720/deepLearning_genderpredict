{
 "cells": [
  {
   "cell_type": "code",
   "execution_count": 1,
   "metadata": {
    "_cell_guid": "b1076dfc-b9ad-4769-8c92-a6c4dae69d19",
    "_uuid": "8f2839f25d086af736a60e9eeb907d3b93b6e0e5"
   },
   "outputs": [
    {
     "name": "stdout",
     "output_type": "stream",
     "text": [
      "['dataset', 'rsna-bone-age']\n"
     ]
    },
    {
     "name": "stderr",
     "output_type": "stream",
     "text": [
      "Using TensorFlow backend.\n"
     ]
    }
   ],
   "source": [
    "import numpy as np # linear algebra\n",
    "import pandas as pd # data processing, CSV file I/O (e.g. pd.read_csv)\n",
    "\n",
    "import os\n",
    "print(os.listdir(\"../input\"))\n",
    "\n",
    "import pandas as pd\n",
    "import numpy as np\n",
    "from keras.layers import Dense\n",
    "from keras.layers import Flatten\n",
    "from keras.layers.convolutional import Conv2D\n",
    "from keras.layers.convolutional import MaxPooling2D\n",
    "from keras.preprocessing.image import ImageDataGenerator\n",
    "import os\n",
    "from glob import glob\n",
    "from PIL import Image\n",
    "from keras import optimizers\n",
    "from keras.models import Sequential\n",
    "from keras.layers import Dense,Activation,AveragePooling2D,MaxPooling2D,Dropout,BatchNormalization\n"
   ]
  },
  {
   "cell_type": "code",
   "execution_count": 2,
   "metadata": {
    "_cell_guid": "79c7e3d0-c299-4dcb-8224-4455121ee9b0",
    "_uuid": "d629ff2d2480ee46fbb7e2d37f6b5fab8052498a"
   },
   "outputs": [
    {
     "data": {
      "text/html": [
       "<div>\n",
       "<style scoped>\n",
       "    .dataframe tbody tr th:only-of-type {\n",
       "        vertical-align: middle;\n",
       "    }\n",
       "\n",
       "    .dataframe tbody tr th {\n",
       "        vertical-align: top;\n",
       "    }\n",
       "\n",
       "    .dataframe thead th {\n",
       "        text-align: right;\n",
       "    }\n",
       "</style>\n",
       "<table border=\"1\" class=\"dataframe\">\n",
       "  <thead>\n",
       "    <tr style=\"text-align: right;\">\n",
       "      <th></th>\n",
       "      <th>Unnamed: 0</th>\n",
       "      <th>boneage</th>\n",
       "      <th>male</th>\n",
       "      <th>id</th>\n",
       "    </tr>\n",
       "  </thead>\n",
       "  <tbody>\n",
       "    <tr>\n",
       "      <th>0</th>\n",
       "      <td>1377</td>\n",
       "      <td>180</td>\n",
       "      <td>FALSE</td>\n",
       "      <td>1377.png</td>\n",
       "    </tr>\n",
       "    <tr>\n",
       "      <th>1</th>\n",
       "      <td>1378</td>\n",
       "      <td>12</td>\n",
       "      <td>FALSE</td>\n",
       "      <td>1378.png</td>\n",
       "    </tr>\n",
       "    <tr>\n",
       "      <th>2</th>\n",
       "      <td>1379</td>\n",
       "      <td>94</td>\n",
       "      <td>FALSE</td>\n",
       "      <td>1379.png</td>\n",
       "    </tr>\n",
       "    <tr>\n",
       "      <th>3</th>\n",
       "      <td>1380</td>\n",
       "      <td>120</td>\n",
       "      <td>TRUE</td>\n",
       "      <td>1380.png</td>\n",
       "    </tr>\n",
       "    <tr>\n",
       "      <th>4</th>\n",
       "      <td>1381</td>\n",
       "      <td>82</td>\n",
       "      <td>FALSE</td>\n",
       "      <td>1381.png</td>\n",
       "    </tr>\n",
       "  </tbody>\n",
       "</table>\n",
       "</div>"
      ],
      "text/plain": [
       "  Unnamed: 0 boneage   male        id\n",
       "0       1377     180  FALSE  1377.png\n",
       "1       1378      12  FALSE  1378.png\n",
       "2       1379      94  FALSE  1379.png\n",
       "3       1380     120   TRUE  1380.png\n",
       "4       1381      82  FALSE  1381.png"
      ]
     },
     "execution_count": 2,
     "metadata": {},
     "output_type": "execute_result"
    }
   ],
   "source": [
    "\n",
    "# 2. upload file\n",
    "\n",
    "# 1) <test>\n",
    "import pandas as pd\n",
    "datadf=pd.read_csv(\"../input/dataset/boneage-training-dataset3.csv\",dtype=str)\n",
    "# test['Sex'] = test['Sex'].map( {'TRUE':0, 'FALSE':1} )\n",
    "datadf.head()"
   ]
  },
  {
   "cell_type": "code",
   "execution_count": 3,
   "metadata": {},
   "outputs": [
    {
     "name": "stdout",
     "output_type": "stream",
     "text": [
      "Found 12611 images belonging to 2 classes.\n"
     ]
    }
   ],
   "source": [
    "\n",
    "# 3. image data generator\n",
    "# 1) <img_gen>\n",
    "img_gen=ImageDataGenerator(rescale=1./255) #data 전처리를 쉽게 할 수 있다.\n",
    "all_generator=img_gen.flow_from_dataframe(datadf, directory=\"../input/rsna-bone-age/boneage-training-dataset/boneage-training-dataset\", x_col='id', y_col='male', target_size=(80, 80), color_mode='grayscale', classes=None, class_mode='binary',shuffle=True, seed=None, save_to_dir=None, save_prefix='', save_format='png', subset='training', interpolation='nearest', drop_duplicates=True)\n"
   ]
  },
  {
   "cell_type": "code",
   "execution_count": 4,
   "metadata": {},
   "outputs": [],
   "source": [
    "\n",
    "# 4. train, dev, test set 만들기\n",
    "from sklearn.model_selection import train_test_split\n",
    "train_df, validate_df = train_test_split(datadf, test_size=0.20, random_state=42)\n",
    "train_df, test_df = train_test_split(train_df, test_size=0.25, random_state=42)\n",
    "train_df = train_df.reset_index(drop=True)\n",
    "validate_df = validate_df.reset_index(drop=True)\n",
    "test_df = validate_df.reset_index(drop=True)\n"
   ]
  },
  {
   "cell_type": "code",
   "execution_count": 5,
   "metadata": {},
   "outputs": [
    {
     "name": "stdout",
     "output_type": "stream",
     "text": [
      "Found 7566 images belonging to 2 classes.\n"
     ]
    }
   ],
   "source": [
    "\n",
    "# 5. image data generator\n",
    "# 1) train\n",
    "train_datagen = ImageDataGenerator(rescale=1./255,)\n",
    "train_generator = train_datagen.flow_from_dataframe(\n",
    "    train_df, \n",
    "    directory=\"../input/rsna-bone-age/boneage-training-dataset/boneage-training-dataset\", \n",
    "    x_col='id', \n",
    "    y_col='male', \n",
    "    target_size=(80, 80),\n",
    "    class_mode='binary',\n",
    "    shuffle=True, \n",
    "    seed=None, \n",
    "    save_to_dir=None, \n",
    "    save_prefix='', \n",
    "    save_format='png', \n",
    "    subset='training', \n",
    "    interpolation='nearest', \n",
    "    drop_duplicates=True)"
   ]
  },
  {
   "cell_type": "code",
   "execution_count": 6,
   "metadata": {},
   "outputs": [
    {
     "name": "stdout",
     "output_type": "stream",
     "text": [
      "Found 2523 images belonging to 2 classes.\n"
     ]
    }
   ],
   "source": [
    "# 2) dev set\n",
    "validation_datagen = ImageDataGenerator(rescale=1./255)\n",
    "validation_generator = validation_datagen.flow_from_dataframe(\n",
    "    validate_df, \n",
    "    directory=\"../input/rsna-bone-age/boneage-training-dataset/boneage-training-dataset\", \n",
    "    x_col='id', \n",
    "    y_col='male', \n",
    "    target_size=(80, 80),\n",
    "    class_mode='binary',\n",
    "    shuffle=True, \n",
    "    seed=None, \n",
    "    save_to_dir=None, \n",
    "    save_prefix='', \n",
    "    save_format='png', \n",
    "    subset='training', \n",
    "    interpolation='nearest', \n",
    "    drop_duplicates=True)"
   ]
  },
  {
   "cell_type": "code",
   "execution_count": 7,
   "metadata": {},
   "outputs": [
    {
     "name": "stdout",
     "output_type": "stream",
     "text": [
      "Found 2523 images belonging to 2 classes.\n"
     ]
    }
   ],
   "source": [
    "# 3) test set\n",
    "test_datagen = ImageDataGenerator(rescale=1./255)\n",
    "test_generator = validation_datagen.flow_from_dataframe(\n",
    "    test_df, \n",
    "    directory=\"../input/rsna-bone-age/boneage-training-dataset/boneage-training-dataset\", \n",
    "    x_col='id', \n",
    "    y_col='male', \n",
    "    target_size=(80, 80),\n",
    "    class_mode='binary',\n",
    "    shuffle=True, \n",
    "    seed=None, \n",
    "    save_to_dir=None, \n",
    "    save_prefix='', \n",
    "    save_format='png', \n",
    "    subset='training', \n",
    "    interpolation='nearest', \n",
    "    drop_duplicates=True)\n"
   ]
  },
  {
   "cell_type": "code",
   "execution_count": 8,
   "metadata": {},
   "outputs": [
    {
     "name": "stdout",
     "output_type": "stream",
     "text": [
      "WARNING:tensorflow:From /opt/conda/lib/python3.6/site-packages/tensorflow/python/framework/op_def_library.py:263: colocate_with (from tensorflow.python.framework.ops) is deprecated and will be removed in a future version.\n",
      "Instructions for updating:\n",
      "Colocations handled automatically by placer.\n",
      "WARNING:tensorflow:From /opt/conda/lib/python3.6/site-packages/keras/backend/tensorflow_backend.py:3445: calling dropout (from tensorflow.python.ops.nn_ops) with keep_prob is deprecated and will be removed in a future version.\n",
      "Instructions for updating:\n",
      "Please use `rate` instead of `keep_prob`. Rate should be set to `rate = 1 - keep_prob`.\n"
     ]
    }
   ],
   "source": [
    "\n",
    "# 6. create model\n",
    "model = Sequential()\n",
    "\n",
    "model.add(Conv2D(3,(8,8),padding='same', input_shape=(80,80,3)))\n",
    "model.add(BatchNormalization())\n",
    "model.add(Activation('relu'))\n",
    "model.add(AveragePooling2D(pool_size=(2,2),strides=(2,2)))\n",
    "\n",
    "model.add(Conv2D(64,(5,5),padding='same'))\n",
    "model.add(BatchNormalization())\n",
    "model.add(Activation('relu'))\n",
    "model.add(MaxPooling2D(pool_size=(2,2),strides=(2,2)))\n",
    "\n",
    "model.add(Conv2D(128,(3,3),padding='same'))\n",
    "model.add(BatchNormalization())\n",
    "model.add(Activation('relu'))\n",
    "model.add(MaxPooling2D(pool_size=(2,2),strides=(2,2)))\n",
    "\n",
    "model.add(Flatten())\n",
    "\n",
    "model.add(Dense(1024))\n",
    "model.add(BatchNormalization())\n",
    "model.add(Activation('relu'))\n",
    "model.add(Dropout(0.8))\n",
    "\n",
    "model.add(Dense(512))\n",
    "model.add(BatchNormalization())\n",
    "model.add(Activation('relu'))\n",
    "model.add(Dropout(0.8))\n",
    "\n",
    "model.add(Dense(128))\n",
    "model.add(BatchNormalization())\n",
    "model.add(Activation('relu'))\n",
    "#model.add(Dropout(0.6))\n",
    "model.add(Activation('softmax'))\n",
    "\n",
    "model.add(Dense(1,activation='sigmoid'))\n"
   ]
  },
  {
   "cell_type": "code",
   "execution_count": 9,
   "metadata": {},
   "outputs": [
    {
     "name": "stdout",
     "output_type": "stream",
     "text": [
      "_________________________________________________________________\n",
      "Layer (type)                 Output Shape              Param #   \n",
      "=================================================================\n",
      "conv2d_1 (Conv2D)            (None, 80, 80, 3)         579       \n",
      "_________________________________________________________________\n",
      "batch_normalization_1 (Batch (None, 80, 80, 3)         12        \n",
      "_________________________________________________________________\n",
      "activation_1 (Activation)    (None, 80, 80, 3)         0         \n",
      "_________________________________________________________________\n",
      "average_pooling2d_1 (Average (None, 40, 40, 3)         0         \n",
      "_________________________________________________________________\n",
      "conv2d_2 (Conv2D)            (None, 40, 40, 64)        4864      \n",
      "_________________________________________________________________\n",
      "batch_normalization_2 (Batch (None, 40, 40, 64)        256       \n",
      "_________________________________________________________________\n",
      "activation_2 (Activation)    (None, 40, 40, 64)        0         \n",
      "_________________________________________________________________\n",
      "max_pooling2d_1 (MaxPooling2 (None, 20, 20, 64)        0         \n",
      "_________________________________________________________________\n",
      "conv2d_3 (Conv2D)            (None, 20, 20, 128)       73856     \n",
      "_________________________________________________________________\n",
      "batch_normalization_3 (Batch (None, 20, 20, 128)       512       \n",
      "_________________________________________________________________\n",
      "activation_3 (Activation)    (None, 20, 20, 128)       0         \n",
      "_________________________________________________________________\n",
      "max_pooling2d_2 (MaxPooling2 (None, 10, 10, 128)       0         \n",
      "_________________________________________________________________\n",
      "flatten_1 (Flatten)          (None, 12800)             0         \n",
      "_________________________________________________________________\n",
      "dense_1 (Dense)              (None, 1024)              13108224  \n",
      "_________________________________________________________________\n",
      "batch_normalization_4 (Batch (None, 1024)              4096      \n",
      "_________________________________________________________________\n",
      "activation_4 (Activation)    (None, 1024)              0         \n",
      "_________________________________________________________________\n",
      "dropout_1 (Dropout)          (None, 1024)              0         \n",
      "_________________________________________________________________\n",
      "dense_2 (Dense)              (None, 512)               524800    \n",
      "_________________________________________________________________\n",
      "batch_normalization_5 (Batch (None, 512)               2048      \n",
      "_________________________________________________________________\n",
      "activation_5 (Activation)    (None, 512)               0         \n",
      "_________________________________________________________________\n",
      "dropout_2 (Dropout)          (None, 512)               0         \n",
      "_________________________________________________________________\n",
      "dense_3 (Dense)              (None, 128)               65664     \n",
      "_________________________________________________________________\n",
      "batch_normalization_6 (Batch (None, 128)               512       \n",
      "_________________________________________________________________\n",
      "activation_6 (Activation)    (None, 128)               0         \n",
      "_________________________________________________________________\n",
      "activation_7 (Activation)    (None, 128)               0         \n",
      "_________________________________________________________________\n",
      "dense_4 (Dense)              (None, 1)                 129       \n",
      "=================================================================\n",
      "Total params: 13,785,552\n",
      "Trainable params: 13,781,834\n",
      "Non-trainable params: 3,718\n",
      "_________________________________________________________________\n",
      "WARNING:tensorflow:From /opt/conda/lib/python3.6/site-packages/tensorflow/python/ops/math_ops.py:3066: to_int32 (from tensorflow.python.ops.math_ops) is deprecated and will be removed in a future version.\n",
      "Instructions for updating:\n",
      "Use tf.cast instead.\n",
      "Epoch 1/20\n",
      "157/157 [==============================] - 267s 2s/step - loss: 0.6905 - acc: 0.5312 - val_loss: 0.6868 - val_acc: 0.5541\n",
      "Epoch 2/20\n",
      "157/157 [==============================] - 219s 1s/step - loss: 0.6896 - acc: 0.5400 - val_loss: 0.6948 - val_acc: 0.5536\n",
      "Epoch 3/20\n",
      "157/157 [==============================] - 205s 1s/step - loss: 0.6853 - acc: 0.5549 - val_loss: 0.6843 - val_acc: 0.5476\n",
      "Epoch 4/20\n",
      "157/157 [==============================] - 204s 1s/step - loss: 0.6843 - acc: 0.5552 - val_loss: 0.6779 - val_acc: 0.5793\n",
      "Epoch 5/20\n",
      "157/157 [==============================] - 202s 1s/step - loss: 0.6785 - acc: 0.5711 - val_loss: 0.7187 - val_acc: 0.5560\n",
      "Epoch 6/20\n",
      "157/157 [==============================] - 204s 1s/step - loss: 0.6772 - acc: 0.5764 - val_loss: 0.7125 - val_acc: 0.4857\n",
      "Epoch 7/20\n",
      "157/157 [==============================] - 202s 1s/step - loss: 0.6701 - acc: 0.5936 - val_loss: 0.6607 - val_acc: 0.6078\n",
      "Epoch 8/20\n",
      "157/157 [==============================] - 202s 1s/step - loss: 0.6541 - acc: 0.6100 - val_loss: 0.6535 - val_acc: 0.6038\n",
      "Epoch 9/20\n",
      "157/157 [==============================] - 202s 1s/step - loss: 0.6508 - acc: 0.6125 - val_loss: 0.6814 - val_acc: 0.6078\n",
      "Epoch 10/20\n",
      "157/157 [==============================] - 201s 1s/step - loss: 0.6389 - acc: 0.6305 - val_loss: 0.6219 - val_acc: 0.6532\n",
      "Epoch 11/20\n",
      "157/157 [==============================] - 202s 1s/step - loss: 0.6252 - acc: 0.6520 - val_loss: 0.6460 - val_acc: 0.6178\n",
      "Epoch 12/20\n",
      "157/157 [==============================] - 201s 1s/step - loss: 0.6154 - acc: 0.6656 - val_loss: 0.7464 - val_acc: 0.5612\n",
      "Epoch 13/20\n",
      "157/157 [==============================] - 198s 1s/step - loss: 0.5999 - acc: 0.6751 - val_loss: 0.6118 - val_acc: 0.6612\n",
      "Epoch 14/20\n",
      "157/157 [==============================] - 201s 1s/step - loss: 0.5943 - acc: 0.6855 - val_loss: 0.5877 - val_acc: 0.6833\n",
      "Epoch 15/20\n",
      "157/157 [==============================] - 195s 1s/step - loss: 0.5858 - acc: 0.6873 - val_loss: 0.6522 - val_acc: 0.6311\n",
      "Epoch 16/20\n",
      "157/157 [==============================] - 193s 1s/step - loss: 0.5739 - acc: 0.6985 - val_loss: 0.5889 - val_acc: 0.6833\n",
      "Epoch 17/20\n",
      "157/157 [==============================] - 192s 1s/step - loss: 0.5592 - acc: 0.7189 - val_loss: 0.6185 - val_acc: 0.6431\n",
      "Epoch 18/20\n",
      "157/157 [==============================] - 194s 1s/step - loss: 0.5602 - acc: 0.7114 - val_loss: 0.6145 - val_acc: 0.6592\n",
      "Epoch 19/20\n",
      "157/157 [==============================] - 193s 1s/step - loss: 0.5436 - acc: 0.7280 - val_loss: 0.5873 - val_acc: 0.6841\n",
      "Epoch 20/20\n",
      "157/157 [==============================] - 193s 1s/step - loss: 0.5507 - acc: 0.7207 - val_loss: 0.6707 - val_acc: 0.6367\n"
     ]
    }
   ],
   "source": [
    "\n",
    "adam = optimizers.Adam(lr=0.01,beta_1=0.9,beta_2=0.999, epsilon = None, decay=0.0)\n",
    "model.compile(optimizer=adam,loss='binary_crossentropy',metrics=['accuracy'])#여기까지가 학습 프로세스 설정\n",
    "model.summary()\n",
    "total_train_n=train_generator.n+validation_generator.n\n",
    "total_train_size=train_generator.batch_size+validation_generator.batch_size\n",
    "history_1=model.fit_generator(train_generator,  epochs=20, verbose=1,validation_data=validation_generator,validation_steps=validation_generator.n//validation_generator.batch_size,steps_per_epoch=total_train_n//total_train_size)\n",
    "\n",
    "model.save('train13.h5')"
   ]
  },
  {
   "cell_type": "code",
   "execution_count": 10,
   "metadata": {},
   "outputs": [
    {
     "name": "stdout",
     "output_type": "stream",
     "text": [
      "acc: 62.50%\n"
     ]
    }
   ],
   "source": [
    "scores = model.evaluate_generator(\n",
    "    test_generator,\n",
    "    steps = 5)\n",
    "print(\"%s: %.2f%%\" %(model.metrics_names[1], scores[1]*100))"
   ]
  },
  {
   "cell_type": "code",
   "execution_count": 11,
   "metadata": {},
   "outputs": [
    {
     "data": {
      "text/plain": [
       "[<matplotlib.lines.Line2D at 0x7f9773eaa518>]"
      ]
     },
     "execution_count": 11,
     "metadata": {},
     "output_type": "execute_result"
    },
    {
     "data": {
      "image/png": "[encoded data removed]",
      "text/plain": [
       "<Figure size 432x288 with 1 Axes>"
      ]
     },
     "metadata": {},
     "output_type": "display_data"
    }
   ],
   "source": [
    "import matplotlib.pyplot as plt\n",
    "\n",
    "plt.plot(history_1.history['acc'], 'b-', label=\"train set accuracy\")\n",
    "plt.plot(history_1.history['val_acc'], 'r:', label=\"dev set accuracy\")"
   ]
  },
  {
   "cell_type": "code",
   "execution_count": 12,
   "metadata": {},
   "outputs": [],
   "source": []
  }
 ],
 "metadata": {
  "kernelspec": {
   "display_name": "Python 3",
   "language": "python",
   "name": "python3"
  },
  "language_info": {
   "codemirror_mode": {
    "name": "ipython",
    "version": 3
   },
   "file_extension": ".py",
   "mimetype": "text/x-python",
   "name": "python",
   "nbconvert_exporter": "python",
   "pygments_lexer": "ipython3",
   "version": "3.6.4"
  }
 },
 "nbformat": 4,
 "nbformat_minor": 1
}
